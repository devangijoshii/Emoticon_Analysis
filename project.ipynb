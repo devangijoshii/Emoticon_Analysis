{
 "cells": [
  {
   "cell_type": "code",
   "execution_count": 17,
   "metadata": {},
   "outputs": [
    {
     "data": {
      "text/plain": [
       "{'df_head':                                                 text\n",
       " 0  \"🧡@KeplerHomes AirdropBox event for #Arbitrum ...\n",
       " 1                                                   \n",
       " 2                           💙Invitation code: 52DC39\n",
       " 3         🏆Airdrop Portal:👉 https://t.co/fudohu97uV\"\n",
       " 4  \"Remember, success in online business is a mar...,\n",
       " 'df_error': 'DataFrame created successfully.'}"
      ]
     },
     "execution_count": 17,
     "metadata": {},
     "output_type": "execute_result"
    }
   ],
   "source": [
    "#importing the dataset\n",
    "import pandas as pd\n",
    "from tqdm.auto import tqdm\n",
    "\n",
    "# Parsing the text data into a DataFrame\n",
    "try:\n",
    "    # Read the file, ignoring the first line which is the header\n",
    "    with open('Data.csv', 'r', encoding='utf-8') as file:\n",
    "        # Skip the first line for the header\n",
    "        text_data = file.readlines()[1:]\n",
    "\n",
    "    # Create a DataFrame with a single column 'text'\n",
    "    df_text = pd.DataFrame(text_data, columns=['text'])\n",
    "    # Clean up the text by stripping newlines\n",
    "    df_text['text'] = df_text['text'].str.strip()\n",
    "except Exception as e:\n",
    "    df_error = str(e)\n",
    "\n",
    "# Output\n",
    "{'df_head': df_text.head() if 'df_text' in locals() else '', 'df_error': df_error if 'df_error' in locals() else 'DataFrame created successfully.'}"
   ]
  },
  {
   "cell_type": "code",
   "execution_count": 18,
   "metadata": {},
   "outputs": [
    {
     "name": "stdout",
     "output_type": "stream",
     "text": [
      "                                                Text\n",
      "0  \"🧡@KeplerHomes AirdropBox event for #Arbitrum ...\n",
      "1                           💙Invitation code: 52DC39\n",
      "2         🏆Airdrop Portal:👉 https://t.co/fudohu97uV\"\n",
      "3  \"Remember, success in online business is a mar...\n",
      "4  For more tips and Strategies, follow me 👉 @coa...\n"
     ]
    }
   ],
   "source": [
    "#processing data and storing it in a new csv file\n",
    "import pandas as pd\n",
    "\n",
    "# Read the file line by line and create a list of dictionaries, assuming each line is a separate entry under 'Text' column\n",
    "entries = []\n",
    "with open('Data.csv', 'r', encoding='utf-8') as file:\n",
    "    next(file)  # Skip the header\n",
    "    for line in file:\n",
    "        # Skip empty lines\n",
    "        if line.strip():\n",
    "            entries.append({'Text': line.strip()})\n",
    "\n",
    "# Create a DataFrame from the list of dictionaries\n",
    "df = pd.DataFrame(entries)\n",
    "\n",
    "# Save the DataFrame to a new CSV file\n",
    "processed_file_path = 'Processed_Data.csv'\n",
    "df.to_csv(processed_file_path, index=False)\n",
    "\n",
    "# Display the head of the DataFrame to confirm it's loaded correctly\n",
    "print(df.head())"
   ]
  },
  {
   "cell_type": "code",
   "execution_count": 19,
   "metadata": {},
   "outputs": [
    {
     "data": {
      "application/vnd.jupyter.widget-view+json": {
       "model_id": "ed52e27081024f52bcfbbe8c2c42e9ff",
       "version_major": 2,
       "version_minor": 0
      },
      "text/plain": [
       "Cleaning Text:   0%|          | 0/66460 [00:00<?, ?it/s]"
      ]
     },
     "metadata": {},
     "output_type": "display_data"
    },
    {
     "name": "stdout",
     "output_type": "stream",
     "text": [
      "                                                Text\n",
      "0  airdropbox event arbitrum ecological user tota...\n",
      "1                                    invitation code\n",
      "2                                     airdrop portal\n",
      "3  remember suces online busines marathon sprint ...\n",
      "4                                 tip strategy folow\n"
     ]
    }
   ],
   "source": [
    "# Update the cleaning function to handle non-string data WITHOUT EMOJI\n",
    "import pandas as pd\n",
    "import re\n",
    "from nltk.corpus import stopwords\n",
    "from nltk.tokenize import word_tokenize\n",
    "from nltk.stem import WordNetLemmatizer\n",
    "from tqdm.notebook import tqdm\n",
    "\n",
    "# Load the processed data\n",
    "file_path = 'Processed_Data.csv'\n",
    "df = pd.read_csv(file_path)\n",
    "\n",
    "# Initialize NLTK tools\n",
    "stop_words = set(stopwords.words('english'))\n",
    "lemmatizer = WordNetLemmatizer()\n",
    "\n",
    "# Define a function to clean the text\n",
    "def clean_text(text):\n",
    "    if not isinstance(text, str):\n",
    "        return ''  # Return empty string for non-string data\n",
    "    text = text.lower()  # Lowercase text\n",
    "    text = re.sub(r'http\\S+|www\\S+', 'URL', text)\n",
    "    text = re.sub(r'@\\w+', 'USER', text)  # Replace usernames\n",
    "    text = re.sub(r'[^a-z\\s]', '', text)  # Remove non-alphabets\n",
    "    text = re.sub(r'(.)\\1+', r'\\1', text)  # Remove consecutive letters\n",
    "    text = ' '.join([word for word in text.split() if len(word) > 2])  # Remove short words\n",
    "    text = ' '.join([word for word in word_tokenize(text) if word not in stop_words])  # Remove stopwords\n",
    "    text = ' '.join([lemmatizer.lemmatize(word) for word in word_tokenize(text)])  # Lemmatize\n",
    "    return text\n",
    "\n",
    "# Apply the cleaning function to the 'Text' column\n",
    "progress_bar = tqdm(total=df.shape[0], desc='Cleaning Text')\n",
    "for i, row in df.iterrows():\n",
    "    df.at[i, 'Text'] = clean_text(row['Text'])\n",
    "    progress_bar.update(1)\n",
    "progress_bar.close()\n",
    "\n",
    "# Save the cleaned DataFrame to a new CSV file\n",
    "cleaned_file_path = 'Cleaned_Processed_Data.csv'\n",
    "df.to_csv(cleaned_file_path, index=False)\n",
    "\n",
    "# Display the head of the cleaned DataFrame\n",
    "print(df.head())"
   ]
  },
  {
   "cell_type": "code",
   "execution_count": 20,
   "metadata": {},
   "outputs": [
    {
     "data": {
      "application/vnd.jupyter.widget-view+json": {
       "model_id": "f6f8c21fc3ab4d098b1e350851a1c135",
       "version_major": 2,
       "version_minor": 0
      },
      "text/plain": [
       "Cleaning Text:   0%|          | 0/66460 [00:00<?, ?it/s]"
      ]
     },
     "metadata": {},
     "output_type": "display_data"
    },
    {
     "name": "stdout",
     "output_type": "stream",
     "text": [
      "                                                Text\n",
      "0  🧡user airdropbox event arbitrum ecological use...\n",
      "1                            💙invitation code 52dc39\n",
      "2                               🏆airdrop portal👉 url\n",
      "3  remember suces online busines marathon sprint ...\n",
      "4                        tip strategy folow user url\n"
     ]
    }
   ],
   "source": [
    "#CLEANED DATA WITH EMOJIS\n",
    "import pandas as pd\n",
    "import re\n",
    "from nltk.corpus import stopwords\n",
    "from nltk.tokenize import word_tokenize\n",
    "from nltk.stem import WordNetLemmatizer\n",
    "from tqdm.notebook import tqdm\n",
    "\n",
    "# Load the processed data\n",
    "file_path = 'Processed_Data.csv'\n",
    "df = pd.read_csv(file_path)\n",
    "\n",
    "# Initialize NLTK tools\n",
    "stop_words = set(stopwords.words('english'))\n",
    "lemmatizer = WordNetLemmatizer()\n",
    "\n",
    "# Define a function to clean the text\n",
    "# This time, we will preserve emojis and replace URLs and usernames as specified\n",
    "def clean_text(text):\n",
    "    text = re.sub(r'(https?://\\S+|www\\.\\S+)', 'URL', text)  # Replace URLs\n",
    "    text = re.sub(r'@\\w+', 'USER', text)  # Replace usernames with 'USER'\n",
    "    text = text.lower()  # Lowercase text\n",
    "     # Remove special characters and numbers except emojis\n",
    "    text = re.sub(r'[^\\w\\s\\U00010000-\\U0010FFFF]', '', text)\n",
    "    #text = re.sub(r'[^a-z\\s\\ud800-\\udfff]', '', text)  # Remove non-alphabets except emojis\n",
    "    text = re.sub(r'(.)\\1+', r'\\1', text)  # Remove consecutive letters\n",
    "    text = ' '.join([word for word in text.split() if len(word) > 2])  # Remove short words\n",
    "    text = ' '.join([word for word in word_tokenize(text) if word not in stop_words])  # Remove stopwords\n",
    "    text = ' '.join([lemmatizer.lemmatize(word) for word in word_tokenize(text)])  # Lemmatize\n",
    "    return text\n",
    "\n",
    "# Apply the cleaning function to the 'Text' column\n",
    "progress_bar = tqdm(total=df.shape[0], desc='Cleaning Text')\n",
    "for i, row in df.iterrows():\n",
    "    df.at[i, 'Text'] = clean_text(row['Text'])\n",
    "    progress_bar.update(1)\n",
    "progress_bar.close()\n",
    "\n",
    "# Save the cleaned DataFrame to a new CSV file\n",
    "cleaned_file_path = 'Emoji_Preserved_Cleaned_Processed_Data.csv'\n",
    "df.to_csv(cleaned_file_path, index=False)\n",
    "\n",
    "# Display the head of the cleaned DataFrame\n",
    "print(df.head())"
   ]
  },
  {
   "cell_type": "code",
   "execution_count": 21,
   "metadata": {},
   "outputs": [
    {
     "name": "stderr",
     "output_type": "stream",
     "text": [
      "C:\\Users\\joshi\\AppData\\Roaming\\Python\\Python312\\site-packages\\sklearn\\cluster\\_kmeans.py:1416: FutureWarning:\n",
      "\n",
      "The default value of `n_init` will change from 10 to 'auto' in 1.4. Set the value of `n_init` explicitly to suppress the warning\n",
      "\n"
     ]
    },
    {
     "name": "stdout",
     "output_type": "stream",
     "text": [
      "Cluster 0:\n",
      "   url, user, shop, link, read, get, check, live, watch, join\n",
      "\n",
      "Cluster 1:\n",
      "   execution, law, governor, firing, bil, squad, idaho, sign, employengagement, employment\n",
      "\n",
      "Cluster 2:\n",
      "   user, live, amp, new, check, get, product, fre, starting, wil\n",
      "\n"
     ]
    },
    {
     "data": {
      "image/png": "[encoded data removed]",
      "text/plain": [
       "<Figure size 640x480 with 1 Axes>"
      ]
     },
     "metadata": {},
     "output_type": "display_data"
    }
   ],
   "source": [
    "#K-Means Clustering\n",
    "import pandas as pd\n",
    "from sklearn.feature_extraction.text import CountVectorizer\n",
    "from sklearn.cluster import KMeans\n",
    "from sklearn.decomposition import TruncatedSVD\n",
    "import matplotlib.pyplot as plt\n",
    "\n",
    "# Load your data into a DataFrame\n",
    "df = pd.read_csv('Emoji_Preserved_Cleaned_Processed_Data.csv')\n",
    "\n",
    "# Assuming you have a column named 'Text'\n",
    "column_name = 'Text'\n",
    "\n",
    "# Drop rows with NaN values in the 'Text' column\n",
    "df = df.dropna(subset=[column_name])\n",
    "\n",
    "# Convert text with emojis to a document-term matrix\n",
    "vectorizer = CountVectorizer(token_pattern=r'\\b\\w+\\b|<Emoji>', binary=True)\n",
    "X = vectorizer.fit_transform(df[column_name])\n",
    "\n",
    "# Apply K-means clustering\n",
    "num_clusters = 3  # You can adjust the number of clusters\n",
    "kmeans = KMeans(n_clusters=num_clusters, random_state=42)\n",
    "kmeans.fit(X)\n",
    "\n",
    "# Add the cluster labels to the DataFrame\n",
    "df['cluster'] = kmeans.labels_\n",
    "\n",
    "# Print the top terms per cluster\n",
    "order_centroids = kmeans.cluster_centers_.argsort()[:, ::-1]\n",
    "terms = vectorizer.get_feature_names_out()\n",
    "\n",
    "for i in range(num_clusters):\n",
    "    print(f\"Cluster {i}:\")\n",
    "    top_terms = [terms[ind] for ind in order_centroids[i, :10]]\n",
    "    print(\"  \", \", \".join(top_terms))\n",
    "    print()\n",
    "\n",
    "# Reduce dimensionality for visualization (using TruncatedSVD)\n",
    "svd = TruncatedSVD(n_components=2)\n",
    "X_svd = svd.fit_transform(X)\n",
    "\n",
    "# Add the reduced components to the DataFrame\n",
    "df[['SVD1', 'SVD2']] = X_svd\n",
    "\n",
    "# Visualize the clusters\n",
    "plt.scatter(df['SVD1'], df['SVD2'], c=df['cluster'], cmap='viridis', alpha=0.5)\n",
    "plt.title('K-means Clustering of Emoticons')\n",
    "plt.xlabel('SVD1')\n",
    "plt.ylabel('SVD2')\n",
    "plt.show()\n"
   ]
  },
  {
   "cell_type": "code",
   "execution_count": 22,
   "metadata": {},
   "outputs": [
    {
     "data": {
      "application/vnd.jupyter.widget-view+json": {
       "model_id": "36c4b19b2f02478ea2f329309c4c74f8",
       "version_major": 2,
       "version_minor": 0
      },
      "text/plain": [
       "Processing rows: 0it [00:00, ?it/s]"
      ]
     },
     "metadata": {},
     "output_type": "display_data"
    },
    {
     "name": "stdout",
     "output_type": "stream",
     "text": [
      "👉 8050\n",
      "👈 1400\n",
      "🥺 483\n",
      "👇 455\n",
      "🔥 318\n",
      "🔴 287\n",
      "💥 271\n",
      "🎯 229\n",
      "🎉 180\n",
      "😍 168\n",
      "🏆 154\n",
      "📺 138\n",
      "🐰 125\n",
      "🚀 122\n",
      "👀 122\n",
      "😳 120\n",
      "💯 119\n",
      "👌 119\n",
      "🥊 119\n",
      "💰 117\n",
      "👍 110\n",
      "🚨 109\n",
      "🙏 105\n",
      "😭 100\n",
      "🥹 99\n",
      "🤣 97\n",
      "😂 96\n",
      "😎 90\n",
      "🔗 89\n",
      "💙 88\n"
     ]
    },
    {
     "name": "stderr",
     "output_type": "stream",
     "text": [
      "C:\\Users\\joshi\\AppData\\Roaming\\Python\\Python312\\site-packages\\IPython\\core\\pylabtools.py:152: UserWarning:\n",
      "\n",
      "Glyph 128073 (\\N{WHITE RIGHT POINTING BACKHAND INDEX}) missing from current font.\n",
      "\n",
      "C:\\Users\\joshi\\AppData\\Roaming\\Python\\Python312\\site-packages\\IPython\\core\\pylabtools.py:152: UserWarning:\n",
      "\n",
      "Glyph 128072 (\\N{WHITE LEFT POINTING BACKHAND INDEX}) missing from current font.\n",
      "\n",
      "C:\\Users\\joshi\\AppData\\Roaming\\Python\\Python312\\site-packages\\IPython\\core\\pylabtools.py:152: UserWarning:\n",
      "\n",
      "Glyph 129402 (\\N{FACE WITH PLEADING EYES}) missing from current font.\n",
      "\n",
      "C:\\Users\\joshi\\AppData\\Roaming\\Python\\Python312\\site-packages\\IPython\\core\\pylabtools.py:152: UserWarning:\n",
      "\n",
      "Glyph 128071 (\\N{WHITE DOWN POINTING BACKHAND INDEX}) missing from current font.\n",
      "\n",
      "C:\\Users\\joshi\\AppData\\Roaming\\Python\\Python312\\site-packages\\IPython\\core\\pylabtools.py:152: UserWarning:\n",
      "\n",
      "Glyph 128293 (\\N{FIRE}) missing from current font.\n",
      "\n",
      "C:\\Users\\joshi\\AppData\\Roaming\\Python\\Python312\\site-packages\\IPython\\core\\pylabtools.py:152: UserWarning:\n",
      "\n",
      "Glyph 128308 (\\N{LARGE RED CIRCLE}) missing from current font.\n",
      "\n",
      "C:\\Users\\joshi\\AppData\\Roaming\\Python\\Python312\\site-packages\\IPython\\core\\pylabtools.py:152: UserWarning:\n",
      "\n",
      "Glyph 128165 (\\N{COLLISION SYMBOL}) missing from current font.\n",
      "\n",
      "C:\\Users\\joshi\\AppData\\Roaming\\Python\\Python312\\site-packages\\IPython\\core\\pylabtools.py:152: UserWarning:\n",
      "\n",
      "Glyph 127919 (\\N{DIRECT HIT}) missing from current font.\n",
      "\n",
      "C:\\Users\\joshi\\AppData\\Roaming\\Python\\Python312\\site-packages\\IPython\\core\\pylabtools.py:152: UserWarning:\n",
      "\n",
      "Glyph 127881 (\\N{PARTY POPPER}) missing from current font.\n",
      "\n",
      "C:\\Users\\joshi\\AppData\\Roaming\\Python\\Python312\\site-packages\\IPython\\core\\pylabtools.py:152: UserWarning:\n",
      "\n",
      "Glyph 128525 (\\N{SMILING FACE WITH HEART-SHAPED EYES}) missing from current font.\n",
      "\n",
      "C:\\Users\\joshi\\AppData\\Roaming\\Python\\Python312\\site-packages\\IPython\\core\\pylabtools.py:152: UserWarning:\n",
      "\n",
      "Glyph 127942 (\\N{TROPHY}) missing from current font.\n",
      "\n",
      "C:\\Users\\joshi\\AppData\\Roaming\\Python\\Python312\\site-packages\\IPython\\core\\pylabtools.py:152: UserWarning:\n",
      "\n",
      "Glyph 128250 (\\N{TELEVISION}) missing from current font.\n",
      "\n",
      "C:\\Users\\joshi\\AppData\\Roaming\\Python\\Python312\\site-packages\\IPython\\core\\pylabtools.py:152: UserWarning:\n",
      "\n",
      "Glyph 128048 (\\N{RABBIT FACE}) missing from current font.\n",
      "\n",
      "C:\\Users\\joshi\\AppData\\Roaming\\Python\\Python312\\site-packages\\IPython\\core\\pylabtools.py:152: UserWarning:\n",
      "\n",
      "Glyph 128640 (\\N{ROCKET}) missing from current font.\n",
      "\n",
      "C:\\Users\\joshi\\AppData\\Roaming\\Python\\Python312\\site-packages\\IPython\\core\\pylabtools.py:152: UserWarning:\n",
      "\n",
      "Glyph 128064 (\\N{EYES}) missing from current font.\n",
      "\n",
      "C:\\Users\\joshi\\AppData\\Roaming\\Python\\Python312\\site-packages\\IPython\\core\\pylabtools.py:152: UserWarning:\n",
      "\n",
      "Glyph 128563 (\\N{FLUSHED FACE}) missing from current font.\n",
      "\n",
      "C:\\Users\\joshi\\AppData\\Roaming\\Python\\Python312\\site-packages\\IPython\\core\\pylabtools.py:152: UserWarning:\n",
      "\n",
      "Glyph 128175 (\\N{HUNDRED POINTS SYMBOL}) missing from current font.\n",
      "\n",
      "C:\\Users\\joshi\\AppData\\Roaming\\Python\\Python312\\site-packages\\IPython\\core\\pylabtools.py:152: UserWarning:\n",
      "\n",
      "Glyph 128076 (\\N{OK HAND SIGN}) missing from current font.\n",
      "\n",
      "C:\\Users\\joshi\\AppData\\Roaming\\Python\\Python312\\site-packages\\IPython\\core\\pylabtools.py:152: UserWarning:\n",
      "\n",
      "Glyph 129354 (\\N{BOXING GLOVE}) missing from current font.\n",
      "\n",
      "C:\\Users\\joshi\\AppData\\Roaming\\Python\\Python312\\site-packages\\IPython\\core\\pylabtools.py:152: UserWarning:\n",
      "\n",
      "Glyph 128176 (\\N{MONEY BAG}) missing from current font.\n",
      "\n",
      "C:\\Users\\joshi\\AppData\\Roaming\\Python\\Python312\\site-packages\\IPython\\core\\pylabtools.py:152: UserWarning:\n",
      "\n",
      "Glyph 128077 (\\N{THUMBS UP SIGN}) missing from current font.\n",
      "\n",
      "C:\\Users\\joshi\\AppData\\Roaming\\Python\\Python312\\site-packages\\IPython\\core\\pylabtools.py:152: UserWarning:\n",
      "\n",
      "Glyph 128680 (\\N{POLICE CARS REVOLVING LIGHT}) missing from current font.\n",
      "\n",
      "C:\\Users\\joshi\\AppData\\Roaming\\Python\\Python312\\site-packages\\IPython\\core\\pylabtools.py:152: UserWarning:\n",
      "\n",
      "Glyph 128591 (\\N{PERSON WITH FOLDED HANDS}) missing from current font.\n",
      "\n",
      "C:\\Users\\joshi\\AppData\\Roaming\\Python\\Python312\\site-packages\\IPython\\core\\pylabtools.py:152: UserWarning:\n",
      "\n",
      "Glyph 128557 (\\N{LOUDLY CRYING FACE}) missing from current font.\n",
      "\n",
      "C:\\Users\\joshi\\AppData\\Roaming\\Python\\Python312\\site-packages\\IPython\\core\\pylabtools.py:152: UserWarning:\n",
      "\n",
      "Glyph 129401 (\\N{FACE HOLDING BACK TEARS}) missing from current font.\n",
      "\n",
      "C:\\Users\\joshi\\AppData\\Roaming\\Python\\Python312\\site-packages\\IPython\\core\\pylabtools.py:152: UserWarning:\n",
      "\n",
      "Glyph 129315 (\\N{ROLLING ON THE FLOOR LAUGHING}) missing from current font.\n",
      "\n",
      "C:\\Users\\joshi\\AppData\\Roaming\\Python\\Python312\\site-packages\\IPython\\core\\pylabtools.py:152: UserWarning:\n",
      "\n",
      "Glyph 128514 (\\N{FACE WITH TEARS OF JOY}) missing from current font.\n",
      "\n",
      "C:\\Users\\joshi\\AppData\\Roaming\\Python\\Python312\\site-packages\\IPython\\core\\pylabtools.py:152: UserWarning:\n",
      "\n",
      "Glyph 128526 (\\N{SMILING FACE WITH SUNGLASSES}) missing from current font.\n",
      "\n",
      "C:\\Users\\joshi\\AppData\\Roaming\\Python\\Python312\\site-packages\\IPython\\core\\pylabtools.py:152: UserWarning:\n",
      "\n",
      "Glyph 128279 (\\N{LINK SYMBOL}) missing from current font.\n",
      "\n",
      "C:\\Users\\joshi\\AppData\\Roaming\\Python\\Python312\\site-packages\\IPython\\core\\pylabtools.py:152: UserWarning:\n",
      "\n",
      "Glyph 128153 (\\N{BLUE HEART}) missing from current font.\n",
      "\n"
     ]
    },
    {
     "data": {
      "image/png": "[encoded data removed]",
      "text/plain": [
       "<Figure size 1000x600 with 1 Axes>"
      ]
     },
     "metadata": {},
     "output_type": "display_data"
    }
   ],
   "source": [
    "#Emoji Frequency Analysis\n",
    "import csv\n",
    "from collections import Counter\n",
    "from tqdm.auto import tqdm\n",
    "import emoji\n",
    "import matplotlib.pyplot as plt\n",
    "\n",
    "# Define a function to extract emojis from a text\n",
    "def extract_emojis(text):\n",
    "    return [char for char in text if emoji.core.is_emoji(char)]\n",
    "\n",
    "# Load the data\n",
    "file_path = 'Emoji_Preserved_Cleaned_Processed_Data.csv'\n",
    "\n",
    "# Initialize an empty list to store all emojis\n",
    "all_emojis = []\n",
    "\n",
    "# Read the file and extract emojis\n",
    "with open(file_path, 'r', encoding='utf-8') as file:\n",
    "    reader = csv.reader(file)\n",
    "    next(reader)  # Skip the header\n",
    "    for row in tqdm(reader, desc='Processing rows'):\n",
    "        all_emojis.extend(extract_emojis(row[0]))\n",
    "\n",
    "# Count the frequency of each emoji\n",
    "emoji_counter = Counter(all_emojis)\n",
    "\n",
    "# Sort emojis by frequency\n",
    "sorted_emojis = sorted(emoji_counter.items(), key=lambda item: item[1], reverse=True)\n",
    "\n",
    "# Display the 30 most common emojis\n",
    "for emoji, count in sorted_emojis[:30]:\n",
    "    print(emoji, count)\n",
    "\n",
    "# Visualization\n",
    "top_emojis, counts = zip(*sorted_emojis[:30])\n",
    "\n",
    "plt.figure(figsize=(10, 6))\n",
    "plt.bar(top_emojis, counts, color='skyblue')\n",
    "plt.title('Top 20 Emojis in the Dataset')\n",
    "plt.xlabel('Emoji')\n",
    "plt.ylabel('Frequency')\n",
    "plt.xticks(rotation=45, ha='right')\n",
    "plt.show()\n"
   ]
  },
  {
   "cell_type": "code",
   "execution_count": 23,
   "metadata": {},
   "outputs": [
    {
     "name": "stderr",
     "output_type": "stream",
     "text": [
      "[nltk_data] Downloading package vader_lexicon to C:\\nltk_data...\n",
      "[nltk_data]   Package vader_lexicon is already up-to-date!\n"
     ]
    },
    {
     "data": {
      "image/png": "[encoded data removed]",
      "text/plain": [
       "<Figure size 1000x1200 with 2 Axes>"
      ]
     },
     "metadata": {},
     "output_type": "display_data"
    }
   ],
   "source": [
    "import pandas as pd\n",
    "import nltk\n",
    "from nltk.sentiment import SentimentIntensityAnalyzer\n",
    "import emoji\n",
    "import matplotlib.pyplot as plt\n",
    "\n",
    "# Download NLTK resources if not already downloaded\n",
    "nltk.download('vader_lexicon')\n",
    "\n",
    "# Load your data into a DataFrame\n",
    "df = pd.read_csv('Emoji_Preserved_Cleaned_Processed_Data.csv')\n",
    "\n",
    "# We have a column named 'Text' containing tweets\n",
    "tweets = df['Text']\n",
    "\n",
    "# Initialize the SentimentIntensityAnalyzer from NLTK\n",
    "sia = SentimentIntensityAnalyzer()\n",
    "\n",
    "# Perform sentiment analysis and add a new column 'Sentiment' to the DataFrame\n",
    "df['Sentiment'] = tweets.apply(lambda text: 'positive' if sia.polarity_scores(str(text))['compound'] >= 0.05\n",
    "                               else 'negative' if sia.polarity_scores(str(text))['compound'] <= -0.05\n",
    "                               else 'neutral' if pd.notnull(text) else None)\n",
    "\n",
    "# Drop rows with missing values in the 'Sentiment' column\n",
    "df = df.dropna(subset=['Sentiment'])\n",
    "\n",
    "# Display the distribution of sentiments\n",
    "sentiment_distribution = df['Sentiment'].value_counts()\n",
    "\n",
    "# Visualize the distribution of sentiments based on emojis\n",
    "emoji_sentiment_distribution = df[df['Text'].apply(lambda text: any(emoji.core.is_emoji(char) for char in str(text)))]['Sentiment'].value_counts()\n",
    "\n",
    "# Plotting\n",
    "fig, ax = plt.subplots(2, 1, figsize=(10, 12))\n",
    "\n",
    "# Plot overall sentiment distribution\n",
    "ax[0].bar(sentiment_distribution.index, sentiment_distribution.values, color='skyblue')\n",
    "ax[0].set_title('Overall Sentiment Distribution')\n",
    "ax[0].set_xlabel('Sentiment')\n",
    "ax[0].set_ylabel('Count')\n",
    "\n",
    "# Plot sentiment distribution based on emojis\n",
    "ax[1].bar(emoji_sentiment_distribution.index, emoji_sentiment_distribution.values, color='orange')\n",
    "ax[1].set_title('Sentiment Distribution Based on Emojis')\n",
    "ax[1].set_xlabel('Sentiment')\n",
    "ax[1].set_ylabel('Count')\n",
    "\n",
    "plt.tight_layout()\n",
    "plt.show()\n"
   ]
  },
  {
   "cell_type": "code",
   "execution_count": 24,
   "metadata": {},
   "outputs": [
    {
     "name": "stderr",
     "output_type": "stream",
     "text": [
      "C:\\Users\\joshi\\AppData\\Roaming\\Python\\Python312\\site-packages\\sklearn\\feature_extraction\\text.py:525: UserWarning:\n",
      "\n",
      "The parameter 'token_pattern' will not be used since 'tokenizer' is not None'\n",
      "\n"
     ]
    },
    {
     "name": "stdout",
     "output_type": "stream",
     "text": [
      "Topic 0: ['get', 'new', 'website', 'create', 'today', 'eth', 'game', 'crypto', 'buy', 'starting']\n",
      "Topic 1: ['url', 'user', 'nan', 'shop', 'link', 'read', 'folow', 'whale', 'insight', 'realtime']\n",
      "Topic 2: ['easter', 'april', 'streaming', 'starting', 'day', 'enjoy', 'live', 'sale', 'hapy', 'one']\n",
      "Topic 3: ['check', 'live', 'fre', 'product', 'amp', 'stream', 'online', 'watch', 'code', 'binance']\n",
      "Topic 4: ['user', 'new', 'wil', 'know', 'dont', 'like', 'people', 'amp', 'god', 'time']\n",
      "\n",
      "Tweet Distribution Across Topics:\n",
      "Topic\n",
      "1    22743\n",
      "4    12625\n",
      "0    12042\n",
      "2    10104\n",
      "3     8946\n",
      "Name: count, dtype: int64\n"
     ]
    }
   ],
   "source": [
    "#CONTEXTUAL ANALYSIS USING LDA\n",
    "import pandas as pd\n",
    "from sklearn.feature_extraction.text import CountVectorizer\n",
    "from sklearn.decomposition import LatentDirichletAllocation\n",
    "from nltk.corpus import stopwords\n",
    "from nltk.tokenize import word_tokenize\n",
    "import gensim\n",
    "\n",
    "# Load your data into a DataFrame\n",
    "df = pd.read_csv('Emoji_Preserved_Cleaned_Processed_Data.csv')\n",
    "\n",
    "# We have a column named 'Text' containing tweets\n",
    "tweets = df['Text']\n",
    "\n",
    "# Preprocess the text data (tokenization and stopword removal)\n",
    "stop_words = set(stopwords.words('english'))\n",
    "tokenized_tweets = tweets.apply(lambda text: [word.lower() for word in word_tokenize(str(text)) if word.isalpha() and word.lower() not in stop_words])\n",
    "\n",
    "# Convert tokenized text to a document-term matrix (Count Vectorization)\n",
    "vectorizer = CountVectorizer(tokenizer=lambda x: x, lowercase=False)\n",
    "X = vectorizer.fit_transform(tokenized_tweets)\n",
    "\n",
    "# Apply Latent Dirichlet Allocation (LDA)\n",
    "num_topics = 5  # You can adjust the number of topics based on your dataset\n",
    "lda = LatentDirichletAllocation(n_components=num_topics, random_state=42)\n",
    "lda.fit(X)\n",
    "\n",
    "# Assign topics to tweets\n",
    "df['Topic'] = lda.transform(X).argmax(axis=1)\n",
    "\n",
    "# Display the top terms for each topic\n",
    "terms = vectorizer.get_feature_names_out()\n",
    "topics_words = {}\n",
    "for i, topic in enumerate(lda.components_):\n",
    "    topic_words = [terms[j] for j in topic.argsort()[:-10 - 1:-1]]\n",
    "    topics_words[f'Topic {i}'] = topic_words\n",
    "    print(f'Topic {i}: {topic_words}')\n",
    "\n",
    "# Display the distribution of tweets across topics\n",
    "topic_distribution = df['Topic'].value_counts()\n",
    "print(\"\\nTweet Distribution Across Topics:\")\n",
    "print(topic_distribution)\n"
   ]
  },
  {
   "cell_type": "code",
   "execution_count": 25,
   "metadata": {},
   "outputs": [
    {
     "name": "stderr",
     "output_type": "stream",
     "text": [
      "C:\\Users\\joshi\\AppData\\Roaming\\Python\\Python312\\site-packages\\sklearn\\feature_extraction\\text.py:525: UserWarning:\n",
      "\n",
      "The parameter 'token_pattern' will not be used since 'tokenizer' is not None'\n",
      "\n"
     ]
    },
    {
     "name": "stdout",
     "output_type": "stream",
     "text": [
      "Topic 0: ['get', 'new', 'website', 'create', 'today', 'eth', 'game', 'crypto', 'buy', 'starting']\n",
      "Topic 1: ['url', 'user', 'nan', 'shop', 'link', 'read', 'folow', 'whale', 'insight', 'realtime']\n",
      "Topic 2: ['easter', 'april', 'streaming', 'starting', 'day', 'enjoy', 'live', 'sale', 'hapy', 'one']\n",
      "Topic 3: ['check', 'live', 'fre', 'product', 'amp', 'stream', 'online', 'watch', 'code', 'binance']\n",
      "Topic 4: ['user', 'new', 'wil', 'know', 'dont', 'like', 'people', 'amp', 'god', 'time']\n",
      "\n",
      "Tweet Distribution Across Topics:\n",
      "Topic\n",
      "1    22743\n",
      "4    12625\n",
      "0    12042\n",
      "2    10104\n",
      "3     8946\n",
      "Name: count, dtype: int64\n"
     ]
    },
    {
     "name": "stderr",
     "output_type": "stream",
     "text": [
      "C:\\Users\\joshi\\AppData\\Local\\Temp\\ipykernel_24956\\2766678388.py:47: FutureWarning:\n",
      "\n",
      "\n",
      "\n",
      "Passing `palette` without assigning `hue` is deprecated and will be removed in v0.14.0. Assign the `x` variable to `hue` and set `legend=False` for the same effect.\n",
      "\n",
      "\n"
     ]
    },
    {
     "data": {
      "image/png": "[encoded data removed]",
      "text/plain": [
       "<Figure size 1000x600 with 1 Axes>"
      ]
     },
     "metadata": {},
     "output_type": "display_data"
    }
   ],
   "source": [
    "#Contextual Segmentation using visualisation\n",
    "import pandas as pd\n",
    "import matplotlib.pyplot as plt\n",
    "from sklearn.feature_extraction.text import CountVectorizer\n",
    "from sklearn.decomposition import LatentDirichletAllocation\n",
    "from nltk.corpus import stopwords\n",
    "from nltk.tokenize import word_tokenize\n",
    "import seaborn as sns\n",
    "\n",
    "# Load your data into a DataFrame\n",
    "df = pd.read_csv('Emoji_Preserved_Cleaned_Processed_Data.csv')\n",
    "\n",
    "# Assuming you have a column named 'Text' containing tweets\n",
    "tweets = df['Text']\n",
    "\n",
    "# Preprocess the text data (tokenization and stopword removal)\n",
    "stop_words = set(stopwords.words('english'))\n",
    "tokenized_tweets = tweets.apply(lambda text: [word.lower() for word in word_tokenize(str(text)) if word.isalpha() and word.lower() not in stop_words])\n",
    "\n",
    "# Convert tokenized text to a document-term matrix (Count Vectorization)\n",
    "vectorizer = CountVectorizer(tokenizer=lambda x: x, lowercase=False)\n",
    "X = vectorizer.fit_transform(tokenized_tweets)\n",
    "\n",
    "# Apply Latent Dirichlet Allocation (LDA)\n",
    "num_topics = 5  # You can adjust the number of topics based on your dataset\n",
    "lda = LatentDirichletAllocation(n_components=num_topics, random_state=42)\n",
    "lda.fit(X)\n",
    "\n",
    "# Assign topics to tweets\n",
    "df['Topic'] = lda.transform(X).argmax(axis=1)\n",
    "\n",
    "# Display the top terms for each topic\n",
    "terms = vectorizer.get_feature_names_out()\n",
    "topics_words = {}\n",
    "for i, topic in enumerate(lda.components_):\n",
    "    topic_words = [terms[j] for j in topic.argsort()[:-10 - 1:-1]]\n",
    "    topics_words[f'Topic {i}'] = topic_words\n",
    "    print(f'Topic {i}: {topic_words}')\n",
    "\n",
    "# Display the distribution of tweets across topics\n",
    "topic_distribution = df['Topic'].value_counts()\n",
    "print(\"\\nTweet Distribution Across Topics:\")\n",
    "print(topic_distribution)\n",
    "\n",
    "# Visualize the distribution of tweets across topics\n",
    "plt.figure(figsize=(10, 6))\n",
    "sns.countplot(x='Topic', data=df, palette='viridis')\n",
    "plt.title('Tweet Distribution Across Topics')\n",
    "plt.xlabel('Topic')\n",
    "plt.ylabel('Count')\n",
    "plt.show()"
   ]
  },
  {
   "cell_type": "code",
   "execution_count": 26,
   "metadata": {},
   "outputs": [
    {
     "data": {
      "application/vnd.plotly.v1+json": {
       "config": {
        "plotlyServerURL": "https://plot.ly"
       },
       "data": [
        {
         "hovertemplate": "tsne_dim1=%{x}<br>tsne_dim2=%{y}<br>Emoji=%{text}<extra></extra>",
         "legendgroup": "",
         "marker": {
          "color": "#636efa",
          "symbol": "circle"
         },
         "mode": "markers+text",
         "name": "",
         "orientation": "v",
         "showlegend": false,
         "text": [
          "👉",
          "👈",
          "🥺",
          "👇",
          "🔥",
          "🔴",
          "💥",
          "🎯",
          "🎉",
          "😍",
          "🏆",
          "📺",
          "🐰",
          "🚀",
          "👀",
          "😳",
          "💯",
          "👌",
          "🥊",
          "💰",
          "👍",
          "🚨",
          "🙏",
          "😭",
          "🥹",
          "😂",
          "😎",
          "🔗",
          "💙"
         ],
         "textposition": "bottom right",
         "type": "scatter",
         "x": [
          38.82899475097656,
          -14.86909008026123,
          4.25654935836792,
          -28.19260597229004,
          20.08606719970703,
          -35.81772232055664,
          17.392108917236328,
          -2.0105440616607666,
          6.398898124694824,
          14.755749702453613,
          -13.39560317993164,
          34.234310150146484,
          -12.969622611999512,
          -21.978116989135742,
          -7.7744011878967285,
          -39.045372009277344,
          -44.2655143737793,
          12.805541038513184,
          -30.084068298339844,
          2.0740654468536377,
          -46.39463806152344,
          -44.51190948486328,
          -15.028608322143555,
          -19.75767707824707,
          -4.192151069641113,
          -2.093688726425171,
          -39.36532974243164,
          8.709447860717773,
          -10.726906776428223
         ],
         "xaxis": "x",
         "y": [
          -25.36110496520996,
          32.711448669433594,
          50.25944137573242,
          44.32096481323242,
          14.042032241821289,
          10.698227882385254,
          27.253755569458008,
          -28.43317985534668,
          -12.347733497619629,
          -26.7419376373291,
          -22.40643310546875,
          -29.920412063598633,
          10.622830390930176,
          -16.343503952026367,
          -11.400016784667969,
          37.67637634277344,
          5.513401031494141,
          32.28876876831055,
          34.882137298583984,
          3.707839250564575,
          53.664363861083984,
          18.386510848999023,
          -34.007144927978516,
          18.903621673583984,
          17.13168716430664,
          45.844512939453125,
          54.34050750732422,
          -22.287752151489258,
          1.681827187538147
         ],
         "yaxis": "y"
        }
       ],
       "layout": {
        "legend": {
         "tracegroupgap": 0
        },
        "template": {
         "data": {
          "bar": [
           {
            "error_x": {
             "color": "#2a3f5f"
            },
            "error_y": {
             "color": "#2a3f5f"
            },
            "marker": {
             "line": {
              "color": "#E5ECF6",
              "width": 0.5
             },
             "pattern": {
              "fillmode": "overlay",
              "size": 10,
              "solidity": 0.2
             }
            },
            "type": "bar"
           }
          ],
          "barpolar": [
           {
            "marker": {
             "line": {
              "color": "#E5ECF6",
              "width": 0.5
             },
             "pattern": {
              "fillmode": "overlay",
              "size": 10,
              "solidity": 0.2
             }
            },
            "type": "barpolar"
           }
          ],
          "carpet": [
           {
            "aaxis": {
             "endlinecolor": "#2a3f5f",
             "gridcolor": "white",
             "linecolor": "white",
             "minorgridcolor": "white",
             "startlinecolor": "#2a3f5f"
            },
            "baxis": {
             "endlinecolor": "#2a3f5f",
             "gridcolor": "white",
             "linecolor": "white",
             "minorgridcolor": "white",
             "startlinecolor": "#2a3f5f"
            },
            "type": "carpet"
           }
          ],
          "choropleth": [
           {
            "colorbar": {
             "outlinewidth": 0,
             "ticks": ""
            },
            "type": "choropleth"
           }
          ],
          "contour": [
           {
            "colorbar": {
             "outlinewidth": 0,
             "ticks": ""
            },
            "colorscale": [
             [
              0,
              "#0d0887"
             ],
             [
              0.1111111111111111,
              "#46039f"
             ],
             [
              0.2222222222222222,
              "#7201a8"
             ],
             [
              0.3333333333333333,
              "#9c179e"
             ],
             [
              0.4444444444444444,
              "#bd3786"
             ],
             [
              0.5555555555555556,
              "#d8576b"
             ],
             [
              0.6666666666666666,
              "#ed7953"
             ],
             [
              0.7777777777777778,
              "#fb9f3a"
             ],
             [
              0.8888888888888888,
              "#fdca26"
             ],
             [
              1,
              "#f0f921"
             ]
            ],
            "type": "contour"
           }
          ],
          "contourcarpet": [
           {
            "colorbar": {
             "outlinewidth": 0,
             "ticks": ""
            },
            "type": "contourcarpet"
           }
          ],
          "heatmap": [
           {
            "colorbar": {
             "outlinewidth": 0,
             "ticks": ""
            },
            "colorscale": [
             [
              0,
              "#0d0887"
             ],
             [
              0.1111111111111111,
              "#46039f"
             ],
             [
              0.2222222222222222,
              "#7201a8"
             ],
             [
              0.3333333333333333,
              "#9c179e"
             ],
             [
              0.4444444444444444,
              "#bd3786"
             ],
             [
              0.5555555555555556,
              "#d8576b"
             ],
             [
              0.6666666666666666,
              "#ed7953"
             ],
             [
              0.7777777777777778,
              "#fb9f3a"
             ],
             [
              0.8888888888888888,
              "#fdca26"
             ],
             [
              1,
              "#f0f921"
             ]
            ],
            "type": "heatmap"
           }
          ],
          "heatmapgl": [
           {
            "colorbar": {
             "outlinewidth": 0,
             "ticks": ""
            },
            "colorscale": [
             [
              0,
              "#0d0887"
             ],
             [
              0.1111111111111111,
              "#46039f"
             ],
             [
              0.2222222222222222,
              "#7201a8"
             ],
             [
              0.3333333333333333,
              "#9c179e"
             ],
             [
              0.4444444444444444,
              "#bd3786"
             ],
             [
              0.5555555555555556,
              "#d8576b"
             ],
             [
              0.6666666666666666,
              "#ed7953"
             ],
             [
              0.7777777777777778,
              "#fb9f3a"
             ],
             [
              0.8888888888888888,
              "#fdca26"
             ],
             [
              1,
              "#f0f921"
             ]
            ],
            "type": "heatmapgl"
           }
          ],
          "histogram": [
           {
            "marker": {
             "pattern": {
              "fillmode": "overlay",
              "size": 10,
              "solidity": 0.2
             }
            },
            "type": "histogram"
           }
          ],
          "histogram2d": [
           {
            "colorbar": {
             "outlinewidth": 0,
             "ticks": ""
            },
            "colorscale": [
             [
              0,
              "#0d0887"
             ],
             [
              0.1111111111111111,
              "#46039f"
             ],
             [
              0.2222222222222222,
              "#7201a8"
             ],
             [
              0.3333333333333333,
              "#9c179e"
             ],
             [
              0.4444444444444444,
              "#bd3786"
             ],
             [
              0.5555555555555556,
              "#d8576b"
             ],
             [
              0.6666666666666666,
              "#ed7953"
             ],
             [
              0.7777777777777778,
              "#fb9f3a"
             ],
             [
              0.8888888888888888,
              "#fdca26"
             ],
             [
              1,
              "#f0f921"
             ]
            ],
            "type": "histogram2d"
           }
          ],
          "histogram2dcontour": [
           {
            "colorbar": {
             "outlinewidth": 0,
             "ticks": ""
            },
            "colorscale": [
             [
              0,
              "#0d0887"
             ],
             [
              0.1111111111111111,
              "#46039f"
             ],
             [
              0.2222222222222222,
              "#7201a8"
             ],
             [
              0.3333333333333333,
              "#9c179e"
             ],
             [
              0.4444444444444444,
              "#bd3786"
             ],
             [
              0.5555555555555556,
              "#d8576b"
             ],
             [
              0.6666666666666666,
              "#ed7953"
             ],
             [
              0.7777777777777778,
              "#fb9f3a"
             ],
             [
              0.8888888888888888,
              "#fdca26"
             ],
             [
              1,
              "#f0f921"
             ]
            ],
            "type": "histogram2dcontour"
           }
          ],
          "mesh3d": [
           {
            "colorbar": {
             "outlinewidth": 0,
             "ticks": ""
            },
            "type": "mesh3d"
           }
          ],
          "parcoords": [
           {
            "line": {
             "colorbar": {
              "outlinewidth": 0,
              "ticks": ""
             }
            },
            "type": "parcoords"
           }
          ],
          "pie": [
           {
            "automargin": true,
            "type": "pie"
           }
          ],
          "scatter": [
           {
            "fillpattern": {
             "fillmode": "overlay",
             "size": 10,
             "solidity": 0.2
            },
            "type": "scatter"
           }
          ],
          "scatter3d": [
           {
            "line": {
             "colorbar": {
              "outlinewidth": 0,
              "ticks": ""
             }
            },
            "marker": {
             "colorbar": {
              "outlinewidth": 0,
              "ticks": ""
             }
            },
            "type": "scatter3d"
           }
          ],
          "scattercarpet": [
           {
            "marker": {
             "colorbar": {
              "outlinewidth": 0,
              "ticks": ""
             }
            },
            "type": "scattercarpet"
           }
          ],
          "scattergeo": [
           {
            "marker": {
             "colorbar": {
              "outlinewidth": 0,
              "ticks": ""
             }
            },
            "type": "scattergeo"
           }
          ],
          "scattergl": [
           {
            "marker": {
             "colorbar": {
              "outlinewidth": 0,
              "ticks": ""
             }
            },
            "type": "scattergl"
           }
          ],
          "scattermapbox": [
           {
            "marker": {
             "colorbar": {
              "outlinewidth": 0,
              "ticks": ""
             }
            },
            "type": "scattermapbox"
           }
          ],
          "scatterpolar": [
           {
            "marker": {
             "colorbar": {
              "outlinewidth": 0,
              "ticks": ""
             }
            },
            "type": "scatterpolar"
           }
          ],
          "scatterpolargl": [
           {
            "marker": {
             "colorbar": {
              "outlinewidth": 0,
              "ticks": ""
             }
            },
            "type": "scatterpolargl"
           }
          ],
          "scatterternary": [
           {
            "marker": {
             "colorbar": {
              "outlinewidth": 0,
              "ticks": ""
             }
            },
            "type": "scatterternary"
           }
          ],
          "surface": [
           {
            "colorbar": {
             "outlinewidth": 0,
             "ticks": ""
            },
            "colorscale": [
             [
              0,
              "#0d0887"
             ],
             [
              0.1111111111111111,
              "#46039f"
             ],
             [
              0.2222222222222222,
              "#7201a8"
             ],
             [
              0.3333333333333333,
              "#9c179e"
             ],
             [
              0.4444444444444444,
              "#bd3786"
             ],
             [
              0.5555555555555556,
              "#d8576b"
             ],
             [
              0.6666666666666666,
              "#ed7953"
             ],
             [
              0.7777777777777778,
              "#fb9f3a"
             ],
             [
              0.8888888888888888,
              "#fdca26"
             ],
             [
              1,
              "#f0f921"
             ]
            ],
            "type": "surface"
           }
          ],
          "table": [
           {
            "cells": {
             "fill": {
              "color": "#EBF0F8"
             },
             "line": {
              "color": "white"
             }
            },
            "header": {
             "fill": {
              "color": "#C8D4E3"
             },
             "line": {
              "color": "white"
             }
            },
            "type": "table"
           }
          ]
         },
         "layout": {
          "annotationdefaults": {
           "arrowcolor": "#2a3f5f",
           "arrowhead": 0,
           "arrowwidth": 1
          },
          "autotypenumbers": "strict",
          "coloraxis": {
           "colorbar": {
            "outlinewidth": 0,
            "ticks": ""
           }
          },
          "colorscale": {
           "diverging": [
            [
             0,
             "#8e0152"
            ],
            [
             0.1,
             "#c51b7d"
            ],
            [
             0.2,
             "#de77ae"
            ],
            [
             0.3,
             "#f1b6da"
            ],
            [
             0.4,
             "#fde0ef"
            ],
            [
             0.5,
             "#f7f7f7"
            ],
            [
             0.6,
             "#e6f5d0"
            ],
            [
             0.7,
             "#b8e186"
            ],
            [
             0.8,
             "#7fbc41"
            ],
            [
             0.9,
             "#4d9221"
            ],
            [
             1,
             "#276419"
            ]
           ],
           "sequential": [
            [
             0,
             "#0d0887"
            ],
            [
             0.1111111111111111,
             "#46039f"
            ],
            [
             0.2222222222222222,
             "#7201a8"
            ],
            [
             0.3333333333333333,
             "#9c179e"
            ],
            [
             0.4444444444444444,
             "#bd3786"
            ],
            [
             0.5555555555555556,
             "#d8576b"
            ],
            [
             0.6666666666666666,
             "#ed7953"
            ],
            [
             0.7777777777777778,
             "#fb9f3a"
            ],
            [
             0.8888888888888888,
             "#fdca26"
            ],
            [
             1,
             "#f0f921"
            ]
           ],
           "sequentialminus": [
            [
             0,
             "#0d0887"
            ],
            [
             0.1111111111111111,
             "#46039f"
            ],
            [
             0.2222222222222222,
             "#7201a8"
            ],
            [
             0.3333333333333333,
             "#9c179e"
            ],
            [
             0.4444444444444444,
             "#bd3786"
            ],
            [
             0.5555555555555556,
             "#d8576b"
            ],
            [
             0.6666666666666666,
             "#ed7953"
            ],
            [
             0.7777777777777778,
             "#fb9f3a"
            ],
            [
             0.8888888888888888,
             "#fdca26"
            ],
            [
             1,
             "#f0f921"
            ]
           ]
          },
          "colorway": [
           "#636efa",
           "#EF553B",
           "#00cc96",
           "#ab63fa",
           "#FFA15A",
           "#19d3f3",
           "#FF6692",
           "#B6E880",
           "#FF97FF",
           "#FECB52"
          ],
          "font": {
           "color": "#2a3f5f"
          },
          "geo": {
           "bgcolor": "white",
           "lakecolor": "white",
           "landcolor": "#E5ECF6",
           "showlakes": true,
           "showland": true,
           "subunitcolor": "white"
          },
          "hoverlabel": {
           "align": "left"
          },
          "hovermode": "closest",
          "mapbox": {
           "style": "light"
          },
          "paper_bgcolor": "white",
          "plot_bgcolor": "#E5ECF6",
          "polar": {
           "angularaxis": {
            "gridcolor": "white",
            "linecolor": "white",
            "ticks": ""
           },
           "bgcolor": "#E5ECF6",
           "radialaxis": {
            "gridcolor": "white",
            "linecolor": "white",
            "ticks": ""
           }
          },
          "scene": {
           "xaxis": {
            "backgroundcolor": "#E5ECF6",
            "gridcolor": "white",
            "gridwidth": 2,
            "linecolor": "white",
            "showbackground": true,
            "ticks": "",
            "zerolinecolor": "white"
           },
           "yaxis": {
            "backgroundcolor": "#E5ECF6",
            "gridcolor": "white",
            "gridwidth": 2,
            "linecolor": "white",
            "showbackground": true,
            "ticks": "",
            "zerolinecolor": "white"
           },
           "zaxis": {
            "backgroundcolor": "#E5ECF6",
            "gridcolor": "white",
            "gridwidth": 2,
            "linecolor": "white",
            "showbackground": true,
            "ticks": "",
            "zerolinecolor": "white"
           }
          },
          "shapedefaults": {
           "line": {
            "color": "#2a3f5f"
           }
          },
          "ternary": {
           "aaxis": {
            "gridcolor": "white",
            "linecolor": "white",
            "ticks": ""
           },
           "baxis": {
            "gridcolor": "white",
            "linecolor": "white",
            "ticks": ""
           },
           "bgcolor": "#E5ECF6",
           "caxis": {
            "gridcolor": "white",
            "linecolor": "white",
            "ticks": ""
           }
          },
          "title": {
           "x": 0.05
          },
          "xaxis": {
           "automargin": true,
           "gridcolor": "white",
           "linecolor": "white",
           "ticks": "",
           "title": {
            "standoff": 15
           },
           "zerolinecolor": "white",
           "zerolinewidth": 2
          },
          "yaxis": {
           "automargin": true,
           "gridcolor": "white",
           "linecolor": "white",
           "ticks": "",
           "title": {
            "standoff": 15
           },
           "zerolinecolor": "white",
           "zerolinewidth": 2
          }
         }
        },
        "title": {
         "text": "t-SNE Visualization of Emoji Embeddings"
        },
        "xaxis": {
         "anchor": "y",
         "domain": [
          0,
          1
         ],
         "title": {
          "text": "tsne_dim1"
         }
        },
        "yaxis": {
         "anchor": "x",
         "domain": [
          0,
          1
         ],
         "title": {
          "text": "tsne_dim2"
         }
        }
       }
      }
     },
     "metadata": {},
     "output_type": "display_data"
    }
   ],
   "source": [
    "#EMOTICON MEANING ANALYSIS \n",
    "import pandas as pd\n",
    "import spacy\n",
    "from sklearn.manifold import TSNE\n",
    "import plotly.express as px\n",
    "import numpy as np\n",
    "\n",
    "# Load your data into a DataFrame\n",
    "# Replace 'your_dataset.csv' with the actual path or data loading method\n",
    "df = pd.read_csv('Emoji_Preserved_Cleaned_Processed_Data.csv')\n",
    "\n",
    "# Assuming you have a column named 'Text' containing tweets\n",
    "tweets = df['Text']\n",
    "\n",
    "# Load pre-trained spaCy model with word vectors\n",
    "nlp = spacy.load('en_core_web_sm')\n",
    "\n",
    "# Select emojis for visualization\n",
    "emojis_for_visualization = ['👉', '👈', '🥺', '👇', '🔥', '🔴', '💥', '🎯', '🎉', '😍', '🏆', '📺', '🐰', '🚀', '👀', '😳', '💯', '👌', '🥊', '💰', '👍', '🚨', '🙏', '😭', '🥹', '😂', '😎', '🔗', '💙']\n",
    "\n",
    "# Get embeddings for selected emojis\n",
    "emoji_embeddings = np.array([nlp(emoji).vector for emoji in emojis_for_visualization])\n",
    "\n",
    "# Apply t-SNE for dimensionality reduction with reduced perplexity\n",
    "tsne = TSNE(n_components=2, perplexity=5, random_state=42)\n",
    "emoji_tsne = tsne.fit_transform(emoji_embeddings)\n",
    "\n",
    "# Create a DataFrame for visualization\n",
    "df_viz = pd.DataFrame({'Emoji': emojis_for_visualization, 'tsne_dim1': emoji_tsne[:, 0], 'tsne_dim2': emoji_tsne[:, 1]})\n",
    "\n",
    "# Plot the embeddings in 2D space with emojis using plotly express\n",
    "fig = px.scatter(df_viz, x='tsne_dim1', y='tsne_dim2', text='Emoji', title='t-SNE Visualization of Emoji Embeddings')\n",
    "fig.update_traces(textposition='bottom right')  # Adjust text position for better visibility\n",
    "fig.show()\n"
   ]
  },
  {
   "cell_type": "code",
   "execution_count": 27,
   "metadata": {},
   "outputs": [],
   "source": [
    "#EMOTICON MEANING ANALYSIS WITHOUT VISUALISATION\n",
    "import pandas as pd\n",
    "import spacy\n",
    "from sklearn.manifold import TSNE\n",
    "import numpy as np\n",
    "\n",
    "# Load your data into a DataFrame\n",
    "# Replace 'your_dataset.csv' with the actual path or data loading method\n",
    "df = pd.read_csv('Emoji_Preserved_Cleaned_Processed_Data.csv')\n",
    "\n",
    "# Assuming you have a column named 'Text' containing tweets\n",
    "tweets = df['Text']\n",
    "\n",
    "# Load pre-trained spaCy model with word vectors\n",
    "nlp = spacy.load('en_core_web_sm')\n",
    "\n",
    "# Select emojis for analysis\n",
    "emojis_for_analysis = ['👉', '👈', '🥺', '👇', '🔥', '🔴', '💥', '🎯', '🎉', '😍', '🏆', '📺', '🐰', '🚀', '👀', '😳', '💯', '👌', '🥊', '💰', '👍', '🚨', '🙏', '😭', '🥹', '😂', '😎', '🔗', '💙']\n",
    "\n",
    "# Get embeddings for selected emojis\n",
    "emoji_embeddings = np.array([nlp(emoji).vector for emoji in emojis_for_analysis])\n",
    "\n",
    "# Save the embeddings and corresponding emojis to a DataFrame\n",
    "df_embeddings = pd.DataFrame({'Emoji': emojis_for_analysis, 'embedding': emoji_embeddings.tolist()})\n",
    "\n",
    "# Save or use df_embeddings for further analysis\n",
    "df_embeddings.to_csv('emoji_embeddings.csv', index=False)\n"
   ]
  },
  {
   "cell_type": "code",
   "execution_count": 28,
   "metadata": {},
   "outputs": [
    {
     "name": "stderr",
     "output_type": "stream",
     "text": [
      "C:\\Users\\joshi\\AppData\\Roaming\\Python\\Python312\\site-packages\\sklearn\\feature_extraction\\text.py:525: UserWarning:\n",
      "\n",
      "The parameter 'token_pattern' will not be used since 'tokenizer' is not None'\n",
      "\n"
     ]
    },
    {
     "name": "stdout",
     "output_type": "stream",
     "text": [
      "Topic 0: ['get', 'new', 'website', 'create', 'today', 'eth', 'game', 'crypto', 'buy', 'starting']\n",
      "Topic 1: ['url', 'user', 'nan', 'shop', 'link', 'read', 'folow', 'whale', 'insight', 'realtime']\n",
      "Topic 2: ['easter', 'april', 'streaming', 'starting', 'day', 'enjoy', 'live', 'sale', 'hapy', 'one']\n",
      "Topic 3: ['check', 'live', 'fre', 'product', 'amp', 'stream', 'online', 'watch', 'code', 'binance']\n",
      "Topic 4: ['user', 'new', 'wil', 'know', 'dont', 'like', 'people', 'amp', 'god', 'time']\n",
      "\n",
      "Tweet Distribution Across Topics:\n",
      "Topic\n",
      "1    22743\n",
      "4    12625\n",
      "0    12042\n",
      "2    10104\n",
      "3     8946\n",
      "Name: count, dtype: int64\n"
     ]
    }
   ],
   "source": [
    "#Contextual segmentation using LDA\n",
    "import pandas as pd\n",
    "from sklearn.feature_extraction.text import CountVectorizer\n",
    "from sklearn.decomposition import LatentDirichletAllocation\n",
    "from nltk.corpus import stopwords\n",
    "from nltk.tokenize import word_tokenize\n",
    "\n",
    "# Load your data into a DataFrame\n",
    "df = pd.read_csv('Emoji_Preserved_Cleaned_Processed_Data.csv')\n",
    "\n",
    "# column named 'Text' containing tweets\n",
    "tweets = df['Text']\n",
    "\n",
    "# Preprocess the text data (tokenization and stopword removal)\n",
    "stop_words = set(stopwords.words('english'))\n",
    "tokenized_tweets = tweets.apply(lambda text: [word.lower() for word in word_tokenize(str(text)) if word.isalpha() and word.lower() not in stop_words])\n",
    "\n",
    "# Convert tokenized text to a document-term matrix (Count Vectorization)\n",
    "vectorizer = CountVectorizer(tokenizer=lambda x: x, lowercase=False)\n",
    "X = vectorizer.fit_transform(tokenized_tweets)\n",
    "\n",
    "# Apply Latent Dirichlet Allocation (LDA)\n",
    "num_topics = 5  # You can adjust the number of topics based on your dataset\n",
    "lda = LatentDirichletAllocation(n_components=num_topics, random_state=42)\n",
    "lda.fit(X)\n",
    "\n",
    "# Assign topics to tweets\n",
    "df['Topic'] = lda.transform(X).argmax(axis=1)\n",
    "\n",
    "# Add a new column 'Context' to the DataFrame\n",
    "df['Context'] = f'Topic {df[\"Topic\"]}'\n",
    "\n",
    "# Save the DataFrame with the new column as a new CSV file\n",
    "df.to_csv('Emoji_Preserved_Cleaned_Contexts.csv', index=False)\n",
    "\n",
    "# Display the top terms for each topic\n",
    "terms = vectorizer.get_feature_names_out()\n",
    "topics_words = {}\n",
    "for i, topic in enumerate(lda.components_):\n",
    "    topic_words = [terms[j] for j in topic.argsort()[:-10 - 1:-1]]\n",
    "    topics_words[f'Topic {i}'] = topic_words\n",
    "    print(f'Topic {i}: {topic_words}')\n",
    "\n",
    "# Display the distribution of tweets across topics\n",
    "topic_distribution = df['Topic'].value_counts()\n",
    "print(\"\\nTweet Distribution Across Topics:\")\n",
    "print(topic_distribution)\n"
   ]
  },
  {
   "cell_type": "code",
   "execution_count": 29,
   "metadata": {},
   "outputs": [
    {
     "name": "stdout",
     "output_type": "stream",
     "text": [
      "\n",
      "Sentiment Distribution Within Each Context:\n",
      "Sentiment                                           negative  neutral  \\\n",
      "Context                                                                 \n",
      "Topic 0        0\\n1        3\\n2        1\\n3    ...      3808    46933   \n",
      "\n",
      "Sentiment                                           positive  \n",
      "Context                                                       \n",
      "Topic 0        0\\n1        3\\n2        1\\n3    ...     14362  \n"
     ]
    }
   ],
   "source": [
    "#Sentiment Analysis within contexts\n",
    "import pandas as pd\n",
    "from nltk.sentiment import SentimentIntensityAnalyzer\n",
    "\n",
    "# Load the DataFrame with the 'Context' column\n",
    "df = pd.read_csv('Emoji_Preserved_Cleaned_Contexts.csv')\n",
    "\n",
    "# Initialize NLTK's SentimentIntensityAnalyzer\n",
    "sia = SentimentIntensityAnalyzer()\n",
    "\n",
    "# Perform sentiment analysis and add a new column 'Sentiment' to the DataFrame\n",
    "def get_sentiment(text):\n",
    "    if pd.notnull(text):\n",
    "        compound_score = sia.polarity_scores(text)['compound']\n",
    "        if compound_score >= 0.05:\n",
    "            return 'positive'\n",
    "        elif compound_score <= -0.05:\n",
    "            return 'negative'\n",
    "        else:\n",
    "            return 'neutral'\n",
    "    else:\n",
    "        return None\n",
    "\n",
    "df['Sentiment'] = df['Text'].apply(get_sentiment)\n",
    "\n",
    "# Display the distribution of sentiments within each context\n",
    "sentiment_distribution = df.groupby('Context')['Sentiment'].value_counts().unstack(fill_value=0)\n",
    "print(\"\\nSentiment Distribution Within Each Context:\")\n",
    "print(sentiment_distribution)\n",
    "\n",
    "# Save the DataFrame with the sentiment information as a new CSV file\n",
    "df.to_csv('Emoji_Preserved_Cleaned_Contexts_Sentiments.csv', index=False)\n"
   ]
  },
  {
   "cell_type": "code",
   "execution_count": 30,
   "metadata": {},
   "outputs": [
    {
     "data": {
      "image/png": "[encoded data removed]",
      "text/plain": [
       "<Figure size 1200x800 with 1 Axes>"
      ]
     },
     "metadata": {},
     "output_type": "display_data"
    }
   ],
   "source": [
    "#Sentiment analysis within context along with visualisation\n",
    "import pandas as pd\n",
    "import seaborn as sns\n",
    "import matplotlib.pyplot as plt\n",
    "from nltk.sentiment import SentimentIntensityAnalyzer\n",
    "\n",
    "# Load the DataFrame with the 'Context' column\n",
    "df = pd.read_csv('Emoji_Preserved_Cleaned_Contexts.csv')\n",
    "\n",
    "# Initialize NLTK's SentimentIntensityAnalyzer\n",
    "sia = SentimentIntensityAnalyzer()\n",
    "\n",
    "# Perform sentiment analysis and add a new column 'Sentiment' to the DataFrame\n",
    "def get_sentiment(text):\n",
    "    if pd.notnull(text):\n",
    "        compound_score = sia.polarity_scores(text)['compound']\n",
    "        if compound_score >= 0.05:\n",
    "            return 'positive'\n",
    "        elif compound_score <= -0.05:\n",
    "            return 'negative'\n",
    "\n",
    "        else:\n",
    "            return 'neutral'\n",
    "    else:\n",
    "        return None\n",
    "\n",
    "df['Sentiment'] = df['Text'].apply(get_sentiment)\n",
    "\n",
    "# Display the distribution of sentiments within each context\n",
    "sentiment_distribution = df.groupby('Context')['Sentiment'].value_counts().unstack(fill_value=0)\n",
    "\n",
    "# Plot the sentiment distribution for each context\n",
    "plt.figure(figsize=(12, 8))\n",
    "sns.set_theme(style=\"whitegrid\")\n",
    "sns.countplot(x=\"Context\", hue=\"Sentiment\", data=df, palette=\"Set2\")\n",
    "plt.title('Sentiment Distribution Within Each Context')\n",
    "plt.xlabel('Context')\n",
    "plt.ylabel('Count')\n",
    "plt.xticks(rotation=45, ha='right')\n",
    "plt.legend(title='Sentiment')\n",
    "plt.show()\n"
   ]
  },
  {
   "cell_type": "code",
   "execution_count": 31,
   "metadata": {},
   "outputs": [
    {
     "name": "stdout",
     "output_type": "stream",
     "text": [
      "                                             Context  👉_Frequency  \\\n",
      "0  Topic 0        0\\n1        3\\n2        1\\n3   ...         8050   \n",
      "\n",
      "   👈_Frequency  🥺_Frequency  👇_Frequency  🔥_Frequency  🔴_Frequency  \\\n",
      "0         1400          483          455          318          287   \n",
      "\n",
      "   💥_Frequency  🎯_Frequency  🎉_Frequency  ...  💰_Frequency  👍_Frequency  \\\n",
      "0          271          229          180  ...          117          110   \n",
      "\n",
      "   🚨_Frequency  🙏_Frequency  😭_Frequency  🥹_Frequency  😂_Frequency  \\\n",
      "0          109          105          100           99           96   \n",
      "\n",
      "   😎_Frequency  🔗_Frequency  💙_Frequency  \n",
      "0           90           89           88  \n",
      "\n",
      "[1 rows x 30 columns]\n"
     ]
    }
   ],
   "source": [
    "#Frequency Analysis within context without visualisation\n",
    "import pandas as pd\n",
    "\n",
    "# Load the DataFrame with the 'Context' and 'Text' columns\n",
    "df = pd.read_csv('Emoji_Preserved_Cleaned_Contexts.csv')\n",
    "\n",
    "# Specify the target emojis of interest\n",
    "target_emojis = ['👉', '👈', '🥺', '👇', '🔥', '🔴', '💥', '🎯', '🎉', '😍', '🏆', '📺', '🐰', '🚀', '👀', '😳', '💯', '👌', '🥊', '💰', '👍', '🚨', '🙏', '😭', '🥹', '😂', '😎', '🔗', '💙']\n",
    "\n",
    "# Create a new column 'Emoticon_Frequency' for each target emoji to store their frequency in each context\n",
    "for emoji in target_emojis:\n",
    "    df[f'{emoji}_Frequency'] = df['Text'].apply(lambda text: str(text).count(emoji) if pd.notnull(text) else 0)\n",
    "\n",
    "# Group by 'Context' and calculate the total frequency of each target emoji in each context\n",
    "emoticon_frequency_by_context = df.groupby('Context')[[f'{emoji}_Frequency' for emoji in target_emojis]].sum().reset_index()\n",
    "\n",
    "# Display the resulting DataFrame\n",
    "print(emoticon_frequency_by_context)\n"
   ]
  },
  {
   "cell_type": "code",
   "execution_count": 32,
   "metadata": {},
   "outputs": [
    {
     "data": {
      "text/plain": [
       "<Figure size 1500x800 with 0 Axes>"
      ]
     },
     "metadata": {},
     "output_type": "display_data"
    },
    {
     "name": "stderr",
     "output_type": "stream",
     "text": [
      "C:\\Users\\joshi\\AppData\\Roaming\\Python\\Python312\\site-packages\\IPython\\core\\pylabtools.py:152: UserWarning:\n",
      "\n",
      "Glyph 128073 (\\N{WHITE RIGHT POINTING BACKHAND INDEX}) missing from current font.\n",
      "\n",
      "C:\\Users\\joshi\\AppData\\Roaming\\Python\\Python312\\site-packages\\IPython\\core\\pylabtools.py:152: UserWarning:\n",
      "\n",
      "Glyph 128072 (\\N{WHITE LEFT POINTING BACKHAND INDEX}) missing from current font.\n",
      "\n",
      "C:\\Users\\joshi\\AppData\\Roaming\\Python\\Python312\\site-packages\\IPython\\core\\pylabtools.py:152: UserWarning:\n",
      "\n",
      "Glyph 129402 (\\N{FACE WITH PLEADING EYES}) missing from current font.\n",
      "\n",
      "C:\\Users\\joshi\\AppData\\Roaming\\Python\\Python312\\site-packages\\IPython\\core\\pylabtools.py:152: UserWarning:\n",
      "\n",
      "Glyph 128071 (\\N{WHITE DOWN POINTING BACKHAND INDEX}) missing from current font.\n",
      "\n",
      "C:\\Users\\joshi\\AppData\\Roaming\\Python\\Python312\\site-packages\\IPython\\core\\pylabtools.py:152: UserWarning:\n",
      "\n",
      "Glyph 128293 (\\N{FIRE}) missing from current font.\n",
      "\n",
      "C:\\Users\\joshi\\AppData\\Roaming\\Python\\Python312\\site-packages\\IPython\\core\\pylabtools.py:152: UserWarning:\n",
      "\n",
      "Glyph 128308 (\\N{LARGE RED CIRCLE}) missing from current font.\n",
      "\n",
      "C:\\Users\\joshi\\AppData\\Roaming\\Python\\Python312\\site-packages\\IPython\\core\\pylabtools.py:152: UserWarning:\n",
      "\n",
      "Glyph 128165 (\\N{COLLISION SYMBOL}) missing from current font.\n",
      "\n",
      "C:\\Users\\joshi\\AppData\\Roaming\\Python\\Python312\\site-packages\\IPython\\core\\pylabtools.py:152: UserWarning:\n",
      "\n",
      "Glyph 127919 (\\N{DIRECT HIT}) missing from current font.\n",
      "\n",
      "C:\\Users\\joshi\\AppData\\Roaming\\Python\\Python312\\site-packages\\IPython\\core\\pylabtools.py:152: UserWarning:\n",
      "\n",
      "Glyph 127881 (\\N{PARTY POPPER}) missing from current font.\n",
      "\n",
      "C:\\Users\\joshi\\AppData\\Roaming\\Python\\Python312\\site-packages\\IPython\\core\\pylabtools.py:152: UserWarning:\n",
      "\n",
      "Glyph 128525 (\\N{SMILING FACE WITH HEART-SHAPED EYES}) missing from current font.\n",
      "\n",
      "C:\\Users\\joshi\\AppData\\Roaming\\Python\\Python312\\site-packages\\IPython\\core\\pylabtools.py:152: UserWarning:\n",
      "\n",
      "Glyph 127942 (\\N{TROPHY}) missing from current font.\n",
      "\n",
      "C:\\Users\\joshi\\AppData\\Roaming\\Python\\Python312\\site-packages\\IPython\\core\\pylabtools.py:152: UserWarning:\n",
      "\n",
      "Glyph 128250 (\\N{TELEVISION}) missing from current font.\n",
      "\n",
      "C:\\Users\\joshi\\AppData\\Roaming\\Python\\Python312\\site-packages\\IPython\\core\\pylabtools.py:152: UserWarning:\n",
      "\n",
      "Glyph 128048 (\\N{RABBIT FACE}) missing from current font.\n",
      "\n",
      "C:\\Users\\joshi\\AppData\\Roaming\\Python\\Python312\\site-packages\\IPython\\core\\pylabtools.py:152: UserWarning:\n",
      "\n",
      "Glyph 128640 (\\N{ROCKET}) missing from current font.\n",
      "\n",
      "C:\\Users\\joshi\\AppData\\Roaming\\Python\\Python312\\site-packages\\IPython\\core\\pylabtools.py:152: UserWarning:\n",
      "\n",
      "Glyph 128064 (\\N{EYES}) missing from current font.\n",
      "\n",
      "C:\\Users\\joshi\\AppData\\Roaming\\Python\\Python312\\site-packages\\IPython\\core\\pylabtools.py:152: UserWarning:\n",
      "\n",
      "Glyph 128563 (\\N{FLUSHED FACE}) missing from current font.\n",
      "\n",
      "C:\\Users\\joshi\\AppData\\Roaming\\Python\\Python312\\site-packages\\IPython\\core\\pylabtools.py:152: UserWarning:\n",
      "\n",
      "Glyph 128175 (\\N{HUNDRED POINTS SYMBOL}) missing from current font.\n",
      "\n",
      "C:\\Users\\joshi\\AppData\\Roaming\\Python\\Python312\\site-packages\\IPython\\core\\pylabtools.py:152: UserWarning:\n",
      "\n",
      "Glyph 128076 (\\N{OK HAND SIGN}) missing from current font.\n",
      "\n",
      "C:\\Users\\joshi\\AppData\\Roaming\\Python\\Python312\\site-packages\\IPython\\core\\pylabtools.py:152: UserWarning:\n",
      "\n",
      "Glyph 129354 (\\N{BOXING GLOVE}) missing from current font.\n",
      "\n",
      "C:\\Users\\joshi\\AppData\\Roaming\\Python\\Python312\\site-packages\\IPython\\core\\pylabtools.py:152: UserWarning:\n",
      "\n",
      "Glyph 128176 (\\N{MONEY BAG}) missing from current font.\n",
      "\n",
      "C:\\Users\\joshi\\AppData\\Roaming\\Python\\Python312\\site-packages\\IPython\\core\\pylabtools.py:152: UserWarning:\n",
      "\n",
      "Glyph 128077 (\\N{THUMBS UP SIGN}) missing from current font.\n",
      "\n",
      "C:\\Users\\joshi\\AppData\\Roaming\\Python\\Python312\\site-packages\\IPython\\core\\pylabtools.py:152: UserWarning:\n",
      "\n",
      "Glyph 128680 (\\N{POLICE CARS REVOLVING LIGHT}) missing from current font.\n",
      "\n",
      "C:\\Users\\joshi\\AppData\\Roaming\\Python\\Python312\\site-packages\\IPython\\core\\pylabtools.py:152: UserWarning:\n",
      "\n",
      "Glyph 128591 (\\N{PERSON WITH FOLDED HANDS}) missing from current font.\n",
      "\n",
      "C:\\Users\\joshi\\AppData\\Roaming\\Python\\Python312\\site-packages\\IPython\\core\\pylabtools.py:152: UserWarning:\n",
      "\n",
      "Glyph 128557 (\\N{LOUDLY CRYING FACE}) missing from current font.\n",
      "\n",
      "C:\\Users\\joshi\\AppData\\Roaming\\Python\\Python312\\site-packages\\IPython\\core\\pylabtools.py:152: UserWarning:\n",
      "\n",
      "Glyph 129401 (\\N{FACE HOLDING BACK TEARS}) missing from current font.\n",
      "\n",
      "C:\\Users\\joshi\\AppData\\Roaming\\Python\\Python312\\site-packages\\IPython\\core\\pylabtools.py:152: UserWarning:\n",
      "\n",
      "Glyph 128514 (\\N{FACE WITH TEARS OF JOY}) missing from current font.\n",
      "\n",
      "C:\\Users\\joshi\\AppData\\Roaming\\Python\\Python312\\site-packages\\IPython\\core\\pylabtools.py:152: UserWarning:\n",
      "\n",
      "Glyph 128526 (\\N{SMILING FACE WITH SUNGLASSES}) missing from current font.\n",
      "\n",
      "C:\\Users\\joshi\\AppData\\Roaming\\Python\\Python312\\site-packages\\IPython\\core\\pylabtools.py:152: UserWarning:\n",
      "\n",
      "Glyph 128279 (\\N{LINK SYMBOL}) missing from current font.\n",
      "\n",
      "C:\\Users\\joshi\\AppData\\Roaming\\Python\\Python312\\site-packages\\IPython\\core\\pylabtools.py:152: UserWarning:\n",
      "\n",
      "Glyph 128153 (\\N{BLUE HEART}) missing from current font.\n",
      "\n"
     ]
    },
    {
     "data": {
      "image/png": "[encoded data removed]",
      "text/plain": [
       "<Figure size 640x480 with 1 Axes>"
      ]
     },
     "metadata": {},
     "output_type": "display_data"
    }
   ],
   "source": [
    "#Frequency analysis with visualisation\n",
    "import pandas as pd\n",
    "import matplotlib.pyplot as plt\n",
    "\n",
    "# Load the DataFrame with the 'Context' and 'Text' columns\n",
    "df = pd.read_csv('Emoji_Preserved_Cleaned_Contexts.csv')\n",
    "\n",
    "# Specify the target emojis of interest\n",
    "target_emojis = ['👉', '👈', '🥺', '👇', '🔥', '🔴', '💥', '🎯', '🎉', '😍', '🏆', '📺', '🐰', '🚀', '👀', '😳', '💯', '👌', '🥊', '💰', '👍', '🚨', '🙏', '😭', '🥹', '😂', '😎', '🔗', '💙']\n",
    "\n",
    "# Create a new column 'Emoticon_Frequency' for each target emoji to store their frequency in each context\n",
    "for emoji in target_emojis:\n",
    "    df[f'{emoji}_Frequency'] = df['Text'].apply(lambda text: str(text).count(emoji) if pd.notnull(text) else 0)\n",
    "\n",
    "# Group by 'Context' and calculate the total frequency of each target emoji in each context\n",
    "emoticon_frequency_by_context = df.groupby('Context')[[f'{emoji}_Frequency' for emoji in target_emojis]].sum().reset_index()\n",
    "\n",
    "# Set the 'Context' column as the index for better visualization\n",
    "emoticon_frequency_by_context.set_index('Context', inplace=True)\n",
    "\n",
    "# Plotting\n",
    "plt.figure(figsize=(15, 8))\n",
    "emoticon_frequency_by_context.plot(kind='bar', stacked=True, colormap='viridis')\n",
    "plt.title('Emoticon Frequency Within Each Context')\n",
    "plt.xlabel('Context')\n",
    "plt.ylabel('Frequency')\n",
    "plt.xticks(rotation=45, ha='right')\n",
    "plt.legend(title='Emoticons', bbox_to_anchor=(1.05, 1), loc='upper left')\n",
    "plt.show()\n"
   ]
  }
 ],
 "metadata": {
  "kernelspec": {
   "display_name": "Python 3",
   "language": "python",
   "name": "python3"
  },
  "language_info": {
   "codemirror_mode": {
    "name": "ipython",
    "version": 3
   },
   "file_extension": ".py",
   "mimetype": "text/x-python",
   "name": "python",
   "nbconvert_exporter": "python",
   "pygments_lexer": "ipython3",
   "version": "3.12.0"
  }
 },
 "nbformat": 4,
 "nbformat_minor": 2
}
